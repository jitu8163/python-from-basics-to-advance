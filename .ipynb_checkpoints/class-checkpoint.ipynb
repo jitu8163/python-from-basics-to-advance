{
 "cells": [
  {
   "cell_type": "code",
   "execution_count": 1,
   "id": "39798162-4918-4952-830f-7549ddf59c39",
   "metadata": {},
   "outputs": [
    {
     "name": "stdout",
     "output_type": "stream",
     "text": [
      "Jay shree ram\n"
     ]
    }
   ],
   "source": [
    "print(\"Jay shree ram\")"
   ]
  },
  {
   "cell_type": "code",
   "execution_count": 15,
   "id": "4ba0a0c6-afd1-49bd-b87f-a3dd5cc125be",
   "metadata": {},
   "outputs": [
    {
     "name": "stdout",
     "output_type": "stream",
     "text": [
      "dazzy 3 years Lebra\n"
     ]
    }
   ],
   "source": [
    "class dogs:\n",
    "    name = \"dazzy\"\n",
    "    age = \"3 years\" \n",
    "    bread = \"Lebra\"\n",
    "    weight = \"40 kg\"\n",
    "p = dogs()\n",
    "print(p.name , p.age , p.bread)"
   ]
  },
  {
   "cell_type": "code",
   "execution_count": 14,
   "id": "b5679e7d-11a3-48ee-b3bd-ce257b2aa22a",
   "metadata": {},
   "outputs": [
    {
     "name": "stdout",
     "output_type": "stream",
     "text": [
      "3 40 off-white\n"
     ]
    }
   ],
   "source": [
    "class dazzy:\n",
    "    age = 3\n",
    "    weight = 45\n",
    "    colour = \"brownish white\"\n",
    "    bread = \"Lebra\"\n",
    "    height = 3.2\n",
    "a = dazzy()\n",
    "class sheru:\n",
    "    age = 2\n",
    "    weight = 40\n",
    "    colour = \"white\"\n",
    "    bread = \"Indian\"\n",
    "    height = 3\n",
    "b = sheru() \n",
    "class roni:\n",
    "    age = 5\n",
    "    weight = 56\n",
    "    colour = \"off-white\"\n",
    "    bread = \"Pitbull\"\n",
    "    height = 2\n",
    "c = roni()\n",
    "print(a.age,b.weight, c.colour)"
   ]
  },
  {
   "cell_type": "code",
   "execution_count": 22,
   "id": "663ed2c2-303a-4338-baa1-29cc544e9791",
   "metadata": {},
   "outputs": [
    {
     "name": "stdout",
     "output_type": "stream",
     "text": [
      " Jitendra Raika is a Student live in jaipur,Rajasthan.He earn 10k per year. You can contact him by xxxxxxxxxx\n"
     ]
    }
   ],
   "source": [
    "class person:\n",
    "    name = \"Jitendra Raika\"\n",
    "    mob = \"xxxxxxxxxx\"\n",
    "    city = \"jaipur\"\n",
    "    state =  \"Rajasthan\"\n",
    "    occupation = \"Student\"\n",
    "    networth = \"10k\"\n",
    "    def info(self):\n",
    "        print(f\" {self.name} is a {self.occupation} live in {self.city},{self.state}.He earn {self.networth} per year. You can contact him by {self.mob}\")\n",
    "a = person()\n",
    "a.info()"
   ]
  },
  {
   "cell_type": "markdown",
   "id": "b56c5b9c-fd91-4e69-8212-a6f3d7373fb4",
   "metadata": {},
   "source": [
    "## Access modifiers in python\n",
    "\n",
    "There is no concept of private and protected variables of a class in python. BUT we can use NAME MINGLING to make a variable private which can not be accessed directly with the help of object or instance. To access this private variable we have to use claas name with the variable name.\n",
    "\n"
   ]
  },
  {
   "cell_type": "raw",
   "id": "e73fc382-6d66-4fef-914b-0717402818c3",
   "metadata": {},
   "source": [
    " SYNTAX:\n",
    "class person:\n",
    "  def __init__(self):\n",
    "     self.__name = \"xyz\"            Here (__) before name represents that it is a private variable.\n",
    "a = person():\n",
    "print(a.__name)                     This will throw an error becoz this can't be accesed in this way.\n",
    "print(a._person__name)              In this way we can access private variable and this is known as name mangling."
   ]
  },
  {
   "cell_type": "code",
   "execution_count": 23,
   "id": "07f6731a-dfbf-48b5-9bbd-7a9ddc17abba",
   "metadata": {},
   "outputs": [
    {
     "ename": "IndentationError",
     "evalue": "expected an indented block (2431195251.py, line 2)",
     "output_type": "error",
     "traceback": [
      "\u001b[1;36m  Cell \u001b[1;32mIn[23], line 2\u001b[1;36m\u001b[0m\n\u001b[1;33m    def init(self):\u001b[0m\n\u001b[1;37m    ^\u001b[0m\n\u001b[1;31mIndentationError\u001b[0m\u001b[1;31m:\u001b[0m expected an indented block\n"
     ]
    }
   ],
   "source": [
    "class person:\n",
    "def __init__(self):\n",
    "self.__name = \"xyz\"              # Here () before name represents that it is a private variable.\n",
    "a = person():\n",
    "print(a.__name)               #This will throw an error becoz this can't be accesed in this way.\n",
    "print(a._person__name)          #In this way we can access private variable and this is known as name mangling."
   ]
  },
  {
   "cell_type": "code",
   "execution_count": null,
   "id": "e36e5b48-cc77-4e0f-8172-6a966d299cfa",
   "metadata": {},
   "outputs": [],
   "source": []
  }
 ],
 "metadata": {
  "kernelspec": {
   "display_name": "Python 3 (ipykernel)",
   "language": "python",
   "name": "python3"
  },
  "language_info": {
   "codemirror_mode": {
    "name": "ipython",
    "version": 3
   },
   "file_extension": ".py",
   "mimetype": "text/x-python",
   "name": "python",
   "nbconvert_exporter": "python",
   "pygments_lexer": "ipython3",
   "version": "3.9.13"
  },
  "widgets": {
   "application/vnd.jupyter.widget-state+json": {
    "state": {},
    "version_major": 2,
    "version_minor": 0
   }
  }
 },
 "nbformat": 4,
 "nbformat_minor": 5
}
